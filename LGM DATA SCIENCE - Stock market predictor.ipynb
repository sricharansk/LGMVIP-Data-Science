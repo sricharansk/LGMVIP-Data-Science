{
 "cells": [
  {
   "cell_type": "code",
   "execution_count": 34,
   "id": "75eabc11",
   "metadata": {},
   "outputs": [],
   "source": [
    "import pandas as pd\n",
    "import numpy as np\n",
    "import math\n",
    "import matplotlib.pyplot as plt\n",
    "from sklearn.preprocessing import MinMaxScaler\n",
    "from sklearn.metrics import mean_squared_error\n",
    "import tensorflow as tf\n",
    "from tensorflow.python.keras.models import Sequential\n",
    "from tensorflow.python.keras.layers import Dense\n",
    "from tensorflow.python.keras.layers import LSTM\n",
    "%matplotlib inline"
   ]
  },
  {
   "cell_type": "code",
   "execution_count": 35,
   "id": "0aad0a24",
   "metadata": {},
   "outputs": [
    {
     "data": {
      "text/html": [
       "<div>\n",
       "<style scoped>\n",
       "    .dataframe tbody tr th:only-of-type {\n",
       "        vertical-align: middle;\n",
       "    }\n",
       "\n",
       "    .dataframe tbody tr th {\n",
       "        vertical-align: top;\n",
       "    }\n",
       "\n",
       "    .dataframe thead th {\n",
       "        text-align: right;\n",
       "    }\n",
       "</style>\n",
       "<table border=\"1\" class=\"dataframe\">\n",
       "  <thead>\n",
       "    <tr style=\"text-align: right;\">\n",
       "      <th></th>\n",
       "      <th>Date</th>\n",
       "      <th>Open</th>\n",
       "      <th>High</th>\n",
       "      <th>Low</th>\n",
       "      <th>Last</th>\n",
       "      <th>Close</th>\n",
       "      <th>Total Trade Quantity</th>\n",
       "      <th>Turnover (Lacs)</th>\n",
       "    </tr>\n",
       "  </thead>\n",
       "  <tbody>\n",
       "    <tr>\n",
       "      <th>2034</th>\n",
       "      <td>2010-07-21</td>\n",
       "      <td>122.1</td>\n",
       "      <td>123.00</td>\n",
       "      <td>121.05</td>\n",
       "      <td>121.10</td>\n",
       "      <td>121.55</td>\n",
       "      <td>658666</td>\n",
       "      <td>803.56</td>\n",
       "    </tr>\n",
       "    <tr>\n",
       "      <th>2033</th>\n",
       "      <td>2010-07-22</td>\n",
       "      <td>120.3</td>\n",
       "      <td>122.00</td>\n",
       "      <td>120.25</td>\n",
       "      <td>120.75</td>\n",
       "      <td>120.90</td>\n",
       "      <td>293312</td>\n",
       "      <td>355.17</td>\n",
       "    </tr>\n",
       "    <tr>\n",
       "      <th>2032</th>\n",
       "      <td>2010-07-23</td>\n",
       "      <td>121.8</td>\n",
       "      <td>121.95</td>\n",
       "      <td>120.25</td>\n",
       "      <td>120.35</td>\n",
       "      <td>120.65</td>\n",
       "      <td>281312</td>\n",
       "      <td>340.31</td>\n",
       "    </tr>\n",
       "    <tr>\n",
       "      <th>2031</th>\n",
       "      <td>2010-07-26</td>\n",
       "      <td>120.1</td>\n",
       "      <td>121.00</td>\n",
       "      <td>117.10</td>\n",
       "      <td>117.10</td>\n",
       "      <td>117.60</td>\n",
       "      <td>658440</td>\n",
       "      <td>780.01</td>\n",
       "    </tr>\n",
       "    <tr>\n",
       "      <th>2030</th>\n",
       "      <td>2010-07-27</td>\n",
       "      <td>117.6</td>\n",
       "      <td>119.50</td>\n",
       "      <td>112.00</td>\n",
       "      <td>118.80</td>\n",
       "      <td>118.65</td>\n",
       "      <td>586100</td>\n",
       "      <td>694.98</td>\n",
       "    </tr>\n",
       "  </tbody>\n",
       "</table>\n",
       "</div>"
      ],
      "text/plain": [
       "            Date   Open    High     Low    Last   Close  Total Trade Quantity  \\\n",
       "2034  2010-07-21  122.1  123.00  121.05  121.10  121.55                658666   \n",
       "2033  2010-07-22  120.3  122.00  120.25  120.75  120.90                293312   \n",
       "2032  2010-07-23  121.8  121.95  120.25  120.35  120.65                281312   \n",
       "2031  2010-07-26  120.1  121.00  117.10  117.10  117.60                658440   \n",
       "2030  2010-07-27  117.6  119.50  112.00  118.80  118.65                586100   \n",
       "\n",
       "      Turnover (Lacs)  \n",
       "2034           803.56  \n",
       "2033           355.17  \n",
       "2032           340.31  \n",
       "2031           780.01  \n",
       "2030           694.98  "
      ]
     },
     "execution_count": 35,
     "metadata": {},
     "output_type": "execute_result"
    }
   ],
   "source": [
    "defn = pd.read_csv('https://raw.githubusercontent.com/mwitiderrick/stockprice/master/NSE-TATAGLOBAL.csv')\n",
    "defn=defn. iloc[::-1]\n",
    "defn.head()"
   ]
  },
  {
   "cell_type": "code",
   "execution_count": 36,
   "id": "2d9a9963",
   "metadata": {},
   "outputs": [
    {
     "data": {
      "text/html": [
       "<div>\n",
       "<style scoped>\n",
       "    .dataframe tbody tr th:only-of-type {\n",
       "        vertical-align: middle;\n",
       "    }\n",
       "\n",
       "    .dataframe tbody tr th {\n",
       "        vertical-align: top;\n",
       "    }\n",
       "\n",
       "    .dataframe thead th {\n",
       "        text-align: right;\n",
       "    }\n",
       "</style>\n",
       "<table border=\"1\" class=\"dataframe\">\n",
       "  <thead>\n",
       "    <tr style=\"text-align: right;\">\n",
       "      <th></th>\n",
       "      <th>Date</th>\n",
       "      <th>Open</th>\n",
       "      <th>High</th>\n",
       "      <th>Low</th>\n",
       "      <th>Last</th>\n",
       "      <th>Close</th>\n",
       "      <th>Total Trade Quantity</th>\n",
       "      <th>Turnover (Lacs)</th>\n",
       "    </tr>\n",
       "  </thead>\n",
       "  <tbody>\n",
       "    <tr>\n",
       "      <th>4</th>\n",
       "      <td>2018-09-24</td>\n",
       "      <td>233.55</td>\n",
       "      <td>239.20</td>\n",
       "      <td>230.75</td>\n",
       "      <td>234.00</td>\n",
       "      <td>233.30</td>\n",
       "      <td>3423509</td>\n",
       "      <td>7999.55</td>\n",
       "    </tr>\n",
       "    <tr>\n",
       "      <th>3</th>\n",
       "      <td>2018-09-25</td>\n",
       "      <td>233.30</td>\n",
       "      <td>236.75</td>\n",
       "      <td>232.00</td>\n",
       "      <td>236.25</td>\n",
       "      <td>236.10</td>\n",
       "      <td>2349368</td>\n",
       "      <td>5503.90</td>\n",
       "    </tr>\n",
       "    <tr>\n",
       "      <th>2</th>\n",
       "      <td>2018-09-26</td>\n",
       "      <td>240.00</td>\n",
       "      <td>240.00</td>\n",
       "      <td>232.50</td>\n",
       "      <td>235.00</td>\n",
       "      <td>234.25</td>\n",
       "      <td>2240909</td>\n",
       "      <td>5248.60</td>\n",
       "    </tr>\n",
       "    <tr>\n",
       "      <th>1</th>\n",
       "      <td>2018-09-27</td>\n",
       "      <td>234.55</td>\n",
       "      <td>236.80</td>\n",
       "      <td>231.10</td>\n",
       "      <td>233.80</td>\n",
       "      <td>233.25</td>\n",
       "      <td>5082859</td>\n",
       "      <td>11859.95</td>\n",
       "    </tr>\n",
       "    <tr>\n",
       "      <th>0</th>\n",
       "      <td>2018-09-28</td>\n",
       "      <td>234.05</td>\n",
       "      <td>235.95</td>\n",
       "      <td>230.20</td>\n",
       "      <td>233.50</td>\n",
       "      <td>233.75</td>\n",
       "      <td>3069914</td>\n",
       "      <td>7162.35</td>\n",
       "    </tr>\n",
       "  </tbody>\n",
       "</table>\n",
       "</div>"
      ],
      "text/plain": [
       "         Date    Open    High     Low    Last   Close  Total Trade Quantity  \\\n",
       "4  2018-09-24  233.55  239.20  230.75  234.00  233.30               3423509   \n",
       "3  2018-09-25  233.30  236.75  232.00  236.25  236.10               2349368   \n",
       "2  2018-09-26  240.00  240.00  232.50  235.00  234.25               2240909   \n",
       "1  2018-09-27  234.55  236.80  231.10  233.80  233.25               5082859   \n",
       "0  2018-09-28  234.05  235.95  230.20  233.50  233.75               3069914   \n",
       "\n",
       "   Turnover (Lacs)  \n",
       "4          7999.55  \n",
       "3          5503.90  \n",
       "2          5248.60  \n",
       "1         11859.95  \n",
       "0          7162.35  "
      ]
     },
     "execution_count": 36,
     "metadata": {},
     "output_type": "execute_result"
    }
   ],
   "source": [
    "defn.tail()"
   ]
  },
  {
   "cell_type": "code",
   "execution_count": 37,
   "id": "f2ff0616",
   "metadata": {},
   "outputs": [
    {
     "data": {
      "text/plain": [
       "Date                    0\n",
       "Open                    0\n",
       "High                    0\n",
       "Low                     0\n",
       "Last                    0\n",
       "Close                   0\n",
       "Total Trade Quantity    0\n",
       "Turnover (Lacs)         0\n",
       "dtype: int64"
      ]
     },
     "execution_count": 37,
     "metadata": {},
     "output_type": "execute_result"
    }
   ],
   "source": [
    "defn.isnull().sum()"
   ]
  },
  {
   "cell_type": "code",
   "execution_count": 38,
   "id": "d85015a0",
   "metadata": {},
   "outputs": [
    {
     "data": {
      "text/plain": [
       "(2035, 8)"
      ]
     },
     "execution_count": 38,
     "metadata": {},
     "output_type": "execute_result"
    }
   ],
   "source": [
    "defn.shape"
   ]
  },
  {
   "cell_type": "code",
   "execution_count": 39,
   "id": "d4c59881",
   "metadata": {},
   "outputs": [
    {
     "data": {
      "text/plain": [
       "[<matplotlib.lines.Line2D at 0x1bba76ea850>]"
      ]
     },
     "execution_count": 39,
     "metadata": {},
     "output_type": "execute_result"
    },
    {
     "data": {
      "image/png": "[encoded data removed]",
      "text/plain": [
       "<Figure size 432x288 with 1 Axes>"
      ]
     },
     "metadata": {
      "needs_background": "light"
     },
     "output_type": "display_data"
    }
   ],
   "source": [
    "defn_high=defn.reset_index()['High']\n",
    "plt.plot(defn_high)"
   ]
  },
  {
   "cell_type": "code",
   "execution_count": 40,
   "id": "ff3271ee",
   "metadata": {},
   "outputs": [],
   "source": [
    "sclr = MinMaxScaler(feature_range = (0,1))\n",
    "defn_high = sclr.fit_transform(np.array(defn_high).reshape(-1,1))"
   ]
  },
  {
   "cell_type": "code",
   "execution_count": 41,
   "id": "bc20aa35",
   "metadata": {},
   "outputs": [
    {
     "data": {
      "text/plain": [
       "array([[0.16344786],\n",
       "       [0.15938199],\n",
       "       [0.15917869],\n",
       "       ...,\n",
       "       [0.6391543 ],\n",
       "       [0.62614353],\n",
       "       [0.62268754]])"
      ]
     },
     "execution_count": 41,
     "metadata": {},
     "output_type": "execute_result"
    }
   ],
   "source": [
    "defn_high.shape\n",
    "defn_high"
   ]
  },
  {
   "cell_type": "code",
   "execution_count": 42,
   "id": "c1c02bba",
   "metadata": {},
   "outputs": [],
   "source": [
    "trainsz = int(len(defn_high) * 0.75)\n",
    "testsz = len(defn_high) - trainsz\n",
    "traindata, testdata = defn_high[0:trainsz,:], defn_high[trainsz:len(defn_high),:1]"
   ]
  },
  {
   "cell_type": "code",
   "execution_count": 43,
   "id": "9ca20ba2",
   "metadata": {},
   "outputs": [
    {
     "data": {
      "text/plain": [
       "(1526, 509)"
      ]
     },
     "execution_count": 43,
     "metadata": {},
     "output_type": "execute_result"
    }
   ],
   "source": [
    "trainsz,testsz"
   ]
  },
  {
   "cell_type": "code",
   "execution_count": 44,
   "id": "91b93487",
   "metadata": {},
   "outputs": [],
   "source": [
    "def create_dataset(dataset, tstep = 1):\n",
    "    dX, dY = [], []\n",
    "    for i in range(len(dataset) - tstep - 1):\n",
    "        v = dataset[i:(i+tstep), 0]\n",
    "        dX.append(v)\n",
    "        dY.append(dataset[i+tstep, 0])\n",
    "    return np.array(dX), np.array(dY)\n",
    "\n",
    "    \n",
    "tstep = 100\n",
    "xtrainer, ytrainer = create_dataset(traindata, tstep)\n",
    "xtester, ytester = create_dataset(testdata, tstep)"
   ]
  },
  {
   "cell_type": "code",
   "execution_count": 45,
   "id": "3a4715aa",
   "metadata": {},
   "outputs": [
    {
     "name": "stdout",
     "output_type": "stream",
     "text": [
      "(1425, 100, 1)\n",
      "(1425,)\n",
      "(408, 100, 1)\n",
      "(408,)\n"
     ]
    },
    {
     "data": {
      "text/plain": [
       "(None, None)"
      ]
     },
     "execution_count": 45,
     "metadata": {},
     "output_type": "execute_result"
    }
   ],
   "source": [
    "xtrainer = xtrainer.reshape(xtrainer.shape[0], xtrainer.shape[1], 1)\n",
    "xtester = xtester.reshape(xtester.shape[0], xtester.shape[1], 1)\n",
    "\n",
    "print(xtrainer.shape), print(ytrainer.shape)\n",
    "print(xtester.shape), print(ytester.shape)"
   ]
  },
  {
   "cell_type": "code",
   "execution_count": 16,
   "id": "cc8b43d1",
   "metadata": {},
   "outputs": [
    {
     "name": "stdout",
     "output_type": "stream",
     "text": [
      "Model: \"sequential\"\n",
      "_________________________________________________________________\n",
      "Layer (type)                 Output Shape              Param #   \n",
      "=================================================================\n",
      "lstm (LSTM)                  (None, 100, 50)           10400     \n",
      "_________________________________________________________________\n",
      "lstm_1 (LSTM)                (None, 100, 50)           20200     \n",
      "_________________________________________________________________\n",
      "lstm_2 (LSTM)                (None, 50)                20200     \n",
      "_________________________________________________________________\n",
      "dense (Dense)                (None, 1)                 51        \n",
      "=================================================================\n",
      "Total params: 50,851\n",
      "Trainable params: 50,851\n",
      "Non-trainable params: 0\n",
      "_________________________________________________________________\n"
     ]
    }
   ],
   "source": [
    "mdl = Sequential()\n",
    "mdl.add(LSTM(50, return_sequences = True, input_shape = (100,1)))\n",
    "mdl.add(LSTM(50, return_sequences = True))\n",
    "mdl.add(LSTM(50))\n",
    "mdl.add(Dense(1))\n",
    "mdl.compile(loss = 'mean_squared_error', optimizer = 'adam')\n",
    "\n",
    "\n",
    "mdl.summary()"
   ]
  },
  {
   "cell_type": "code",
   "execution_count": 17,
   "id": "a111b59e",
   "metadata": {},
   "outputs": [
    {
     "name": "stdout",
     "output_type": "stream",
     "text": [
      "Epoch 1/100\n",
      "23/23 [==============================] - 7s 285ms/step - loss: 0.0110 - val_loss: 0.0533\n",
      "Epoch 2/100\n",
      "23/23 [==============================] - 4s 181ms/step - loss: 0.0021 - val_loss: 0.0089\n",
      "Epoch 3/100\n",
      "23/23 [==============================] - 7s 322ms/step - loss: 8.9759e-04 - val_loss: 0.0057\n",
      "Epoch 4/100\n",
      "23/23 [==============================] - 6s 262ms/step - loss: 7.7946e-04 - val_loss: 0.0072\n",
      "Epoch 5/100\n",
      "23/23 [==============================] - 6s 250ms/step - loss: 7.6630e-04 - val_loss: 0.0063\n",
      "Epoch 6/100\n",
      "23/23 [==============================] - 6s 265ms/step - loss: 7.3302e-04 - val_loss: 0.0051\n",
      "Epoch 7/100\n",
      "23/23 [==============================] - 6s 270ms/step - loss: 7.0915e-04 - val_loss: 0.0045\n",
      "Epoch 8/100\n",
      "23/23 [==============================] - 7s 289ms/step - loss: 6.8688e-04 - val_loss: 0.0070\n",
      "Epoch 9/100\n",
      "23/23 [==============================] - 7s 286ms/step - loss: 6.6806e-04 - val_loss: 0.0060\n",
      "Epoch 10/100\n",
      "23/23 [==============================] - 9s 373ms/step - loss: 6.2698e-04 - val_loss: 0.0043\n",
      "Epoch 11/100\n",
      "23/23 [==============================] - 9s 410ms/step - loss: 6.1618e-04 - val_loss: 0.0078\n",
      "Epoch 12/100\n",
      "23/23 [==============================] - 8s 330ms/step - loss: 6.2341e-04 - val_loss: 0.0049\n",
      "Epoch 13/100\n",
      "23/23 [==============================] - 7s 289ms/step - loss: 6.3052e-04 - val_loss: 0.0098\n",
      "Epoch 14/100\n",
      "23/23 [==============================] - 6s 255ms/step - loss: 6.1147e-04 - val_loss: 0.0051\n",
      "Epoch 15/100\n",
      "23/23 [==============================] - 7s 324ms/step - loss: 5.5216e-04 - val_loss: 0.0049\n",
      "Epoch 16/100\n",
      "23/23 [==============================] - 7s 295ms/step - loss: 5.8375e-04 - val_loss: 0.0090\n",
      "Epoch 17/100\n",
      "23/23 [==============================] - 7s 304ms/step - loss: 5.1905e-04 - val_loss: 0.0077\n",
      "Epoch 18/100\n",
      "23/23 [==============================] - 6s 251ms/step - loss: 5.1037e-04 - val_loss: 0.0067\n",
      "Epoch 19/100\n",
      "23/23 [==============================] - 6s 251ms/step - loss: 4.9177e-04 - val_loss: 0.0067\n",
      "Epoch 20/100\n",
      "23/23 [==============================] - 6s 241ms/step - loss: 4.8244e-04 - val_loss: 0.0095\n",
      "Epoch 21/100\n",
      "23/23 [==============================] - 6s 245ms/step - loss: 4.6445e-04 - val_loss: 0.0054\n",
      "Epoch 22/100\n",
      "23/23 [==============================] - 5s 238ms/step - loss: 4.7159e-04 - val_loss: 0.0056\n",
      "Epoch 23/100\n",
      "23/23 [==============================] - 5s 238ms/step - loss: 4.4973e-04 - val_loss: 0.0063\n",
      "Epoch 24/100\n",
      "23/23 [==============================] - 6s 244ms/step - loss: 4.4409e-04 - val_loss: 0.0064\n",
      "Epoch 25/100\n",
      "23/23 [==============================] - 6s 253ms/step - loss: 4.3575e-04 - val_loss: 0.0067\n",
      "Epoch 26/100\n",
      "23/23 [==============================] - 6s 244ms/step - loss: 4.0965e-04 - val_loss: 0.0053\n",
      "Epoch 27/100\n",
      "23/23 [==============================] - 6s 241ms/step - loss: 4.5862e-04 - val_loss: 0.0089\n",
      "Epoch 28/100\n",
      "23/23 [==============================] - 6s 243ms/step - loss: 3.9646e-04 - val_loss: 0.0057\n",
      "Epoch 29/100\n",
      "23/23 [==============================] - 6s 240ms/step - loss: 3.7944e-04 - val_loss: 0.0049\n",
      "Epoch 30/100\n",
      "23/23 [==============================] - 6s 243ms/step - loss: 3.7172e-04 - val_loss: 0.0051\n",
      "Epoch 31/100\n",
      "23/23 [==============================] - 6s 263ms/step - loss: 3.6926e-04 - val_loss: 0.0029\n",
      "Epoch 32/100\n",
      "23/23 [==============================] - 6s 271ms/step - loss: 3.6980e-04 - val_loss: 0.0054\n",
      "Epoch 33/100\n",
      "23/23 [==============================] - 6s 276ms/step - loss: 3.5006e-04 - val_loss: 0.0062\n",
      "Epoch 34/100\n",
      "23/23 [==============================] - 6s 281ms/step - loss: 3.4496e-04 - val_loss: 0.0036\n",
      "Epoch 35/100\n",
      "23/23 [==============================] - 6s 272ms/step - loss: 3.5104e-04 - val_loss: 0.0042\n",
      "Epoch 36/100\n",
      "23/23 [==============================] - 6s 274ms/step - loss: 3.1241e-04 - val_loss: 0.0031\n",
      "Epoch 37/100\n",
      "23/23 [==============================] - 6s 262ms/step - loss: 3.1176e-04 - val_loss: 0.0023\n",
      "Epoch 38/100\n",
      "23/23 [==============================] - 6s 278ms/step - loss: 3.1127e-04 - val_loss: 0.0035\n",
      "Epoch 39/100\n",
      "23/23 [==============================] - 6s 263ms/step - loss: 2.9886e-04 - val_loss: 0.0040\n",
      "Epoch 40/100\n",
      "23/23 [==============================] - 6s 266ms/step - loss: 3.0166e-04 - val_loss: 0.0035\n",
      "Epoch 41/100\n",
      "23/23 [==============================] - 6s 271ms/step - loss: 2.7726e-04 - val_loss: 0.0027\n",
      "Epoch 42/100\n",
      "23/23 [==============================] - 6s 266ms/step - loss: 2.7891e-04 - val_loss: 0.0015\n",
      "Epoch 43/100\n",
      "23/23 [==============================] - 6s 259ms/step - loss: 2.9651e-04 - val_loss: 8.0252e-04\n",
      "Epoch 44/100\n",
      "23/23 [==============================] - 6s 267ms/step - loss: 2.7257e-04 - val_loss: 0.0048\n",
      "Epoch 45/100\n",
      "23/23 [==============================] - 6s 273ms/step - loss: 2.6441e-04 - val_loss: 0.0058\n",
      "Epoch 46/100\n",
      "23/23 [==============================] - 6s 264ms/step - loss: 2.6887e-04 - val_loss: 0.0029\n",
      "Epoch 47/100\n",
      "23/23 [==============================] - 6s 259ms/step - loss: 2.5606e-04 - val_loss: 0.0020\n",
      "Epoch 48/100\n",
      "23/23 [==============================] - 6s 276ms/step - loss: 2.3830e-04 - val_loss: 0.0028\n",
      "Epoch 49/100\n",
      "23/23 [==============================] - 6s 249ms/step - loss: 2.2233e-04 - val_loss: 0.0033\n",
      "Epoch 50/100\n",
      "23/23 [==============================] - 6s 250ms/step - loss: 2.4309e-04 - val_loss: 0.0031\n",
      "Epoch 51/100\n",
      "23/23 [==============================] - 6s 242ms/step - loss: 2.2917e-04 - val_loss: 0.0028\n",
      "Epoch 52/100\n",
      "23/23 [==============================] - 6s 245ms/step - loss: 2.5742e-04 - val_loss: 0.0012\n",
      "Epoch 53/100\n",
      "23/23 [==============================] - 6s 250ms/step - loss: 2.4341e-04 - val_loss: 0.0024\n",
      "Epoch 54/100\n",
      "23/23 [==============================] - 6s 255ms/step - loss: 2.3082e-04 - val_loss: 0.0014\n",
      "Epoch 55/100\n",
      "23/23 [==============================] - 6s 243ms/step - loss: 2.2721e-04 - val_loss: 8.1165e-04\n",
      "Epoch 56/100\n",
      "23/23 [==============================] - 6s 253ms/step - loss: 2.0386e-04 - val_loss: 0.0019\n",
      "Epoch 57/100\n",
      "23/23 [==============================] - 6s 248ms/step - loss: 2.2060e-04 - val_loss: 0.0033\n",
      "Epoch 58/100\n",
      "23/23 [==============================] - 6s 255ms/step - loss: 1.8750e-04 - val_loss: 7.3751e-04\n",
      "Epoch 59/100\n",
      "23/23 [==============================] - 6s 280ms/step - loss: 1.7785e-04 - val_loss: 7.3948e-04\n",
      "Epoch 60/100\n",
      "23/23 [==============================] - 6s 280ms/step - loss: 1.8227e-04 - val_loss: 9.1773e-04\n",
      "Epoch 61/100\n",
      "23/23 [==============================] - 7s 291ms/step - loss: 1.7186e-04 - val_loss: 7.0055e-04\n",
      "Epoch 62/100\n",
      "23/23 [==============================] - 7s 286ms/step - loss: 1.5815e-04 - val_loss: 0.0011\n",
      "Epoch 63/100\n",
      "23/23 [==============================] - 7s 296ms/step - loss: 1.5849e-04 - val_loss: 0.0010\n",
      "Epoch 64/100\n",
      "23/23 [==============================] - 6s 260ms/step - loss: 1.6569e-04 - val_loss: 0.0015\n",
      "Epoch 65/100\n",
      "23/23 [==============================] - 6s 255ms/step - loss: 1.6276e-04 - val_loss: 0.0015\n",
      "Epoch 66/100\n",
      "23/23 [==============================] - 7s 291ms/step - loss: 1.5192e-04 - val_loss: 0.0014\n",
      "Epoch 67/100\n",
      "23/23 [==============================] - 7s 283ms/step - loss: 1.5209e-04 - val_loss: 5.1053e-04\n",
      "Epoch 68/100\n",
      "23/23 [==============================] - 7s 284ms/step - loss: 1.4157e-04 - val_loss: 3.7383e-04\n",
      "Epoch 69/100\n",
      "23/23 [==============================] - 6s 274ms/step - loss: 1.3417e-04 - val_loss: 3.7974e-04\n",
      "Epoch 70/100\n",
      "23/23 [==============================] - 6s 273ms/step - loss: 1.4987e-04 - val_loss: 0.0010\n",
      "Epoch 71/100\n",
      "23/23 [==============================] - 6s 270ms/step - loss: 1.3232e-04 - val_loss: 4.1694e-04\n",
      "Epoch 72/100\n",
      "23/23 [==============================] - 6s 268ms/step - loss: 1.3770e-04 - val_loss: 3.7380e-04\n",
      "Epoch 73/100\n",
      "23/23 [==============================] - 6s 256ms/step - loss: 1.3213e-04 - val_loss: 8.5292e-04\n",
      "Epoch 74/100\n",
      "23/23 [==============================] - 6s 279ms/step - loss: 1.3000e-04 - val_loss: 3.8431e-04\n",
      "Epoch 75/100\n",
      "23/23 [==============================] - 6s 269ms/step - loss: 1.2634e-04 - val_loss: 4.2493e-04\n",
      "Epoch 76/100\n",
      "23/23 [==============================] - 6s 273ms/step - loss: 1.4151e-04 - val_loss: 3.7529e-04\n",
      "Epoch 77/100\n",
      "23/23 [==============================] - 6s 260ms/step - loss: 1.5026e-04 - val_loss: 8.8771e-04\n"
     ]
    },
    {
     "name": "stdout",
     "output_type": "stream",
     "text": [
      "Epoch 78/100\n",
      "23/23 [==============================] - 6s 260ms/step - loss: 1.2878e-04 - val_loss: 3.7674e-04\n",
      "Epoch 79/100\n",
      "23/23 [==============================] - 6s 278ms/step - loss: 1.2283e-04 - val_loss: 4.5556e-04\n",
      "Epoch 80/100\n",
      "23/23 [==============================] - 7s 288ms/step - loss: 1.1633e-04 - val_loss: 3.8772e-04\n",
      "Epoch 81/100\n",
      "23/23 [==============================] - 7s 288ms/step - loss: 1.1578e-04 - val_loss: 4.2215e-04\n",
      "Epoch 82/100\n",
      "23/23 [==============================] - 6s 267ms/step - loss: 1.2106e-04 - val_loss: 3.9894e-04\n",
      "Epoch 83/100\n",
      "23/23 [==============================] - 8s 352ms/step - loss: 1.1535e-04 - val_loss: 4.4457e-04\n",
      "Epoch 84/100\n",
      "23/23 [==============================] - 7s 284ms/step - loss: 1.1437e-04 - val_loss: 4.5520e-04\n",
      "Epoch 85/100\n",
      "23/23 [==============================] - 8s 346ms/step - loss: 1.2735e-04 - val_loss: 6.3348e-04\n",
      "Epoch 86/100\n",
      "23/23 [==============================] - 9s 371ms/step - loss: 1.1792e-04 - val_loss: 4.1960e-04\n",
      "Epoch 87/100\n",
      "23/23 [==============================] - 8s 366ms/step - loss: 1.2898e-04 - val_loss: 0.0012\n",
      "Epoch 88/100\n",
      "23/23 [==============================] - 8s 354ms/step - loss: 1.5194e-04 - val_loss: 4.9204e-04\n",
      "Epoch 89/100\n",
      "23/23 [==============================] - 9s 377ms/step - loss: 1.1870e-04 - val_loss: 6.4015e-04\n",
      "Epoch 90/100\n",
      "23/23 [==============================] - 8s 352ms/step - loss: 1.1863e-04 - val_loss: 4.8163e-04\n",
      "Epoch 91/100\n",
      "23/23 [==============================] - 8s 368ms/step - loss: 1.1410e-04 - val_loss: 4.4547e-04\n",
      "Epoch 92/100\n",
      "23/23 [==============================] - 8s 339ms/step - loss: 1.3524e-04 - val_loss: 9.2788e-04\n",
      "Epoch 93/100\n",
      "23/23 [==============================] - 8s 330ms/step - loss: 1.1886e-04 - val_loss: 4.2873e-04\n",
      "Epoch 94/100\n",
      "23/23 [==============================] - 7s 313ms/step - loss: 1.1697e-04 - val_loss: 4.2216e-04\n",
      "Epoch 95/100\n",
      "23/23 [==============================] - 7s 314ms/step - loss: 1.1196e-04 - val_loss: 4.7336e-04\n",
      "Epoch 96/100\n",
      "23/23 [==============================] - 7s 309ms/step - loss: 1.1395e-04 - val_loss: 4.3336e-04\n",
      "Epoch 97/100\n",
      "23/23 [==============================] - 7s 311ms/step - loss: 1.1223e-04 - val_loss: 5.0257e-04\n",
      "Epoch 98/100\n",
      "23/23 [==============================] - 7s 297ms/step - loss: 1.1236e-04 - val_loss: 4.9386e-04\n",
      "Epoch 99/100\n",
      "23/23 [==============================] - 7s 295ms/step - loss: 1.1205e-04 - val_loss: 5.0615e-04\n",
      "Epoch 100/100\n",
      "23/23 [==============================] - 7s 301ms/step - loss: 1.1992e-04 - val_loss: 6.2226e-04\n"
     ]
    },
    {
     "data": {
      "text/plain": [
       "<tensorflow.python.keras.callbacks.History at 0x1bb92eb7c10>"
      ]
     },
     "execution_count": 17,
     "metadata": {},
     "output_type": "execute_result"
    }
   ],
   "source": [
    "mdl.fit(xtrainer, ytrainer, validation_data = (xtester, ytester), epochs = 100, batch_size = 64, verbose = 1)"
   ]
  },
  {
   "cell_type": "code",
   "execution_count": 46,
   "id": "dd297ad7",
   "metadata": {},
   "outputs": [
    {
     "data": {
      "text/plain": [
       "137.21639340146942"
      ]
     },
     "execution_count": 46,
     "metadata": {},
     "output_type": "execute_result"
    }
   ],
   "source": [
    "trpd = mdl.predict(xtrainer)\n",
    "tpd = mdl.predict(xtester)\n",
    "trpd = sclr.inverse_transform(trpd)\n",
    "tpd = sclr.inverse_transform(tpd)\n",
    "math.sqrt(mean_squared_error(ytrainer, trpd))"
   ]
  },
  {
   "cell_type": "code",
   "execution_count": 47,
   "id": "16e795a8",
   "metadata": {},
   "outputs": [
    {
     "data": {
      "text/plain": [
       "236.30112523776165"
      ]
     },
     "execution_count": 47,
     "metadata": {},
     "output_type": "execute_result"
    }
   ],
   "source": [
    "math.sqrt(mean_squared_error(ytester, tpd))\n"
   ]
  },
  {
   "cell_type": "code",
   "execution_count": 48,
   "id": "7356f2ff",
   "metadata": {},
   "outputs": [
    {
     "data": {
      "image/png": "[encoded data removed]",
      "text/plain": [
       "<Figure size 432x288 with 1 Axes>"
      ]
     },
     "metadata": {
      "needs_background": "light"
     },
     "output_type": "display_data"
    },
    {
     "name": "stdout",
     "output_type": "stream",
     "text": [
      "Green indicates the predicted data\n",
      "Blue indicates the complete data\n",
      "Orange indicates the trained data\n"
     ]
    }
   ],
   "source": [
    "lb = 100\n",
    "trpdPlot = np.empty_like(defn_high)\n",
    "trpdPlot[:,:] = np.nan\n",
    "trpdPlot[lb:len(trpd) + lb, :] = trpd\n",
    "tpdPlot = np.empty_like(defn_high)\n",
    "tpdPlot[:,:] = np.nan\n",
    "tpdPlot[len(trpd) + (lb * 2)+1:len(defn_high) - 1, :] = tpd\n",
    "\n",
    "plt.plot(sclr.inverse_transform(defn_high))\n",
    "plt.plot(trpdPlot)\n",
    "plt.plot(tpdPlot)\n",
    "plt.show()\n",
    "print(\"Green indicates the predicted data\")\n",
    "print(\"Blue indicates the complete data\")\n",
    "print(\"Orange indicates the trained data\")"
   ]
  },
  {
   "cell_type": "code",
   "execution_count": 49,
   "id": "f3dd6289",
   "metadata": {},
   "outputs": [
    {
     "data": {
      "text/plain": [
       "(509, (408, 100, 1))"
      ]
     },
     "execution_count": 49,
     "metadata": {},
     "output_type": "execute_result"
    }
   ],
   "source": [
    "len(testdata), xtester.shape"
   ]
  },
  {
   "cell_type": "code",
   "execution_count": 50,
   "id": "f2e967a1",
   "metadata": {},
   "outputs": [
    {
     "data": {
      "text/plain": [
       "(1, 100)"
      ]
     },
     "execution_count": 50,
     "metadata": {},
     "output_type": "execute_result"
    }
   ],
   "source": [
    "xinput = testdata[409:].reshape(1,-1)\n",
    "xinput.shape"
   ]
  },
  {
   "cell_type": "code",
   "execution_count": 51,
   "id": "01cab31d",
   "metadata": {},
   "outputs": [
    {
     "name": "stdout",
     "output_type": "stream",
     "text": [
      "[0.6370136]\n",
      "101\n",
      "1 day input [0.86013417 0.85464525 0.84448059 0.8072779  0.71843871 0.66192316\n",
      " 0.67696686 0.67554381 0.67310429 0.68428542 0.68936776 0.70217524\n",
      " 0.71803212 0.72941655 0.73144948 0.74486684 0.76926205 0.75991055\n",
      " 0.74242732 0.73958122 0.74771295 0.75991055 0.7584875  0.76621264\n",
      " 0.75462492 0.76316324 0.79670665 0.80585485 0.7889815  0.78003659\n",
      " 0.73978451 0.73002643 0.73490547 0.74872942 0.75991055 0.75462492\n",
      " 0.75401504 0.76174019 0.7737345  0.82008538 0.80585485 0.81154706\n",
      " 0.77434438 0.78633869 0.79284407 0.78328929 0.77109169 0.74385038\n",
      " 0.71193332 0.68733482 0.67818662 0.65257166 0.64301687 0.65643423\n",
      " 0.67656028 0.67371417 0.65114861 0.65521447 0.66761537 0.67838992\n",
      " 0.69993901 0.63122586 0.63508843 0.64098394 0.64545639 0.64118723\n",
      " 0.63854442 0.63081927 0.62472047 0.6330555  0.64728603 0.6574507\n",
      " 0.66761537 0.66720878 0.64159382 0.62776987 0.63651149 0.63630819\n",
      " 0.62980281 0.62817646 0.63813783 0.65358813 0.63183574 0.57653995\n",
      " 0.57816629 0.57613336 0.61943484 0.57979264 0.57288067 0.62573694\n",
      " 0.63102257 0.6361049  0.62776987 0.6269567  0.63590161 0.62594023\n",
      " 0.6391543  0.62614353 0.62268754 0.63701361]\n",
      "1 day output [[0.6535976]]\n",
      "2 day input [0.85464525 0.84448059 0.8072779  0.71843871 0.66192316 0.67696686\n",
      " 0.67554381 0.67310429 0.68428542 0.68936776 0.70217524 0.71803212\n",
      " 0.72941655 0.73144948 0.74486684 0.76926205 0.75991055 0.74242732\n",
      " 0.73958122 0.74771295 0.75991055 0.7584875  0.76621264 0.75462492\n",
      " 0.76316324 0.79670665 0.80585485 0.7889815  0.78003659 0.73978451\n",
      " 0.73002643 0.73490547 0.74872942 0.75991055 0.75462492 0.75401504\n",
      " 0.76174019 0.7737345  0.82008538 0.80585485 0.81154706 0.77434438\n",
      " 0.78633869 0.79284407 0.78328929 0.77109169 0.74385038 0.71193332\n",
      " 0.68733482 0.67818662 0.65257166 0.64301687 0.65643423 0.67656028\n",
      " 0.67371417 0.65114861 0.65521447 0.66761537 0.67838992 0.69993901\n",
      " 0.63122586 0.63508843 0.64098394 0.64545639 0.64118723 0.63854442\n",
      " 0.63081927 0.62472047 0.6330555  0.64728603 0.6574507  0.66761537\n",
      " 0.66720878 0.64159382 0.62776987 0.63651149 0.63630819 0.62980281\n",
      " 0.62817646 0.63813783 0.65358813 0.63183574 0.57653995 0.57816629\n",
      " 0.57613336 0.61943484 0.57979264 0.57288067 0.62573694 0.63102257\n",
      " 0.6361049  0.62776987 0.6269567  0.63590161 0.62594023 0.6391543\n",
      " 0.62614353 0.62268754 0.63701361 0.65359759]\n",
      "2 day output [[0.6699129]]\n",
      "3 day input [0.84448059 0.8072779  0.71843871 0.66192316 0.67696686 0.67554381\n",
      " 0.67310429 0.68428542 0.68936776 0.70217524 0.71803212 0.72941655\n",
      " 0.73144948 0.74486684 0.76926205 0.75991055 0.74242732 0.73958122\n",
      " 0.74771295 0.75991055 0.7584875  0.76621264 0.75462492 0.76316324\n",
      " 0.79670665 0.80585485 0.7889815  0.78003659 0.73978451 0.73002643\n",
      " 0.73490547 0.74872942 0.75991055 0.75462492 0.75401504 0.76174019\n",
      " 0.7737345  0.82008538 0.80585485 0.81154706 0.77434438 0.78633869\n",
      " 0.79284407 0.78328929 0.77109169 0.74385038 0.71193332 0.68733482\n",
      " 0.67818662 0.65257166 0.64301687 0.65643423 0.67656028 0.67371417\n",
      " 0.65114861 0.65521447 0.66761537 0.67838992 0.69993901 0.63122586\n",
      " 0.63508843 0.64098394 0.64545639 0.64118723 0.63854442 0.63081927\n",
      " 0.62472047 0.6330555  0.64728603 0.6574507  0.66761537 0.66720878\n",
      " 0.64159382 0.62776987 0.63651149 0.63630819 0.62980281 0.62817646\n",
      " 0.63813783 0.65358813 0.63183574 0.57653995 0.57816629 0.57613336\n",
      " 0.61943484 0.57979264 0.57288067 0.62573694 0.63102257 0.6361049\n",
      " 0.62776987 0.6269567  0.63590161 0.62594023 0.6391543  0.62614353\n",
      " 0.62268754 0.63701361 0.65359759 0.66991287]\n",
      "3 day output [[0.6856172]]\n",
      "4 day input [0.8072779  0.71843871 0.66192316 0.67696686 0.67554381 0.67310429\n",
      " 0.68428542 0.68936776 0.70217524 0.71803212 0.72941655 0.73144948\n",
      " 0.74486684 0.76926205 0.75991055 0.74242732 0.73958122 0.74771295\n",
      " 0.75991055 0.7584875  0.76621264 0.75462492 0.76316324 0.79670665\n",
      " 0.80585485 0.7889815  0.78003659 0.73978451 0.73002643 0.73490547\n",
      " 0.74872942 0.75991055 0.75462492 0.75401504 0.76174019 0.7737345\n",
      " 0.82008538 0.80585485 0.81154706 0.77434438 0.78633869 0.79284407\n",
      " 0.78328929 0.77109169 0.74385038 0.71193332 0.68733482 0.67818662\n",
      " 0.65257166 0.64301687 0.65643423 0.67656028 0.67371417 0.65114861\n",
      " 0.65521447 0.66761537 0.67838992 0.69993901 0.63122586 0.63508843\n",
      " 0.64098394 0.64545639 0.64118723 0.63854442 0.63081927 0.62472047\n",
      " 0.6330555  0.64728603 0.6574507  0.66761537 0.66720878 0.64159382\n",
      " 0.62776987 0.63651149 0.63630819 0.62980281 0.62817646 0.63813783\n",
      " 0.65358813 0.63183574 0.57653995 0.57816629 0.57613336 0.61943484\n",
      " 0.57979264 0.57288067 0.62573694 0.63102257 0.6361049  0.62776987\n",
      " 0.6269567  0.63590161 0.62594023 0.6391543  0.62614353 0.62268754\n",
      " 0.63701361 0.65359759 0.66991287 0.68561721]\n",
      "4 day output [[0.7011551]]\n",
      "5 day input [0.71843871 0.66192316 0.67696686 0.67554381 0.67310429 0.68428542\n",
      " 0.68936776 0.70217524 0.71803212 0.72941655 0.73144948 0.74486684\n",
      " 0.76926205 0.75991055 0.74242732 0.73958122 0.74771295 0.75991055\n",
      " 0.7584875  0.76621264 0.75462492 0.76316324 0.79670665 0.80585485\n",
      " 0.7889815  0.78003659 0.73978451 0.73002643 0.73490547 0.74872942\n",
      " 0.75991055 0.75462492 0.75401504 0.76174019 0.7737345  0.82008538\n",
      " 0.80585485 0.81154706 0.77434438 0.78633869 0.79284407 0.78328929\n",
      " 0.77109169 0.74385038 0.71193332 0.68733482 0.67818662 0.65257166\n",
      " 0.64301687 0.65643423 0.67656028 0.67371417 0.65114861 0.65521447\n",
      " 0.66761537 0.67838992 0.69993901 0.63122586 0.63508843 0.64098394\n",
      " 0.64545639 0.64118723 0.63854442 0.63081927 0.62472047 0.6330555\n",
      " 0.64728603 0.6574507  0.66761537 0.66720878 0.64159382 0.62776987\n",
      " 0.63651149 0.63630819 0.62980281 0.62817646 0.63813783 0.65358813\n",
      " 0.63183574 0.57653995 0.57816629 0.57613336 0.61943484 0.57979264\n",
      " 0.57288067 0.62573694 0.63102257 0.6361049  0.62776987 0.6269567\n",
      " 0.63590161 0.62594023 0.6391543  0.62614353 0.62268754 0.63701361\n",
      " 0.65359759 0.66991287 0.68561721 0.70115513]\n",
      "5 day output [[0.71706975]]\n",
      "6 day input [0.66192316 0.67696686 0.67554381 0.67310429 0.68428542 0.68936776\n",
      " 0.70217524 0.71803212 0.72941655 0.73144948 0.74486684 0.76926205\n",
      " 0.75991055 0.74242732 0.73958122 0.74771295 0.75991055 0.7584875\n",
      " 0.76621264 0.75462492 0.76316324 0.79670665 0.80585485 0.7889815\n",
      " 0.78003659 0.73978451 0.73002643 0.73490547 0.74872942 0.75991055\n",
      " 0.75462492 0.75401504 0.76174019 0.7737345  0.82008538 0.80585485\n",
      " 0.81154706 0.77434438 0.78633869 0.79284407 0.78328929 0.77109169\n",
      " 0.74385038 0.71193332 0.68733482 0.67818662 0.65257166 0.64301687\n",
      " 0.65643423 0.67656028 0.67371417 0.65114861 0.65521447 0.66761537\n",
      " 0.67838992 0.69993901 0.63122586 0.63508843 0.64098394 0.64545639\n",
      " 0.64118723 0.63854442 0.63081927 0.62472047 0.6330555  0.64728603\n",
      " 0.6574507  0.66761537 0.66720878 0.64159382 0.62776987 0.63651149\n",
      " 0.63630819 0.62980281 0.62817646 0.63813783 0.65358813 0.63183574\n",
      " 0.57653995 0.57816629 0.57613336 0.61943484 0.57979264 0.57288067\n",
      " 0.62573694 0.63102257 0.6361049  0.62776987 0.6269567  0.63590161\n",
      " 0.62594023 0.6391543  0.62614353 0.62268754 0.63701361 0.65359759\n",
      " 0.66991287 0.68561721 0.70115513 0.71706975]\n",
      "6 day output [[0.73366386]]\n",
      "7 day input [0.67696686 0.67554381 0.67310429 0.68428542 0.68936776 0.70217524\n",
      " 0.71803212 0.72941655 0.73144948 0.74486684 0.76926205 0.75991055\n",
      " 0.74242732 0.73958122 0.74771295 0.75991055 0.7584875  0.76621264\n",
      " 0.75462492 0.76316324 0.79670665 0.80585485 0.7889815  0.78003659\n",
      " 0.73978451 0.73002643 0.73490547 0.74872942 0.75991055 0.75462492\n",
      " 0.75401504 0.76174019 0.7737345  0.82008538 0.80585485 0.81154706\n",
      " 0.77434438 0.78633869 0.79284407 0.78328929 0.77109169 0.74385038\n",
      " 0.71193332 0.68733482 0.67818662 0.65257166 0.64301687 0.65643423\n",
      " 0.67656028 0.67371417 0.65114861 0.65521447 0.66761537 0.67838992\n",
      " 0.69993901 0.63122586 0.63508843 0.64098394 0.64545639 0.64118723\n",
      " 0.63854442 0.63081927 0.62472047 0.6330555  0.64728603 0.6574507\n",
      " 0.66761537 0.66720878 0.64159382 0.62776987 0.63651149 0.63630819\n",
      " 0.62980281 0.62817646 0.63813783 0.65358813 0.63183574 0.57653995\n",
      " 0.57816629 0.57613336 0.61943484 0.57979264 0.57288067 0.62573694\n",
      " 0.63102257 0.6361049  0.62776987 0.6269567  0.63590161 0.62594023\n",
      " 0.6391543  0.62614353 0.62268754 0.63701361 0.65359759 0.66991287\n",
      " 0.68561721 0.70115513 0.71706975 0.73366386]\n",
      "7 day output [[0.74847287]]\n",
      "8 day input [0.67554381 0.67310429 0.68428542 0.68936776 0.70217524 0.71803212\n",
      " 0.72941655 0.73144948 0.74486684 0.76926205 0.75991055 0.74242732\n",
      " 0.73958122 0.74771295 0.75991055 0.7584875  0.76621264 0.75462492\n",
      " 0.76316324 0.79670665 0.80585485 0.7889815  0.78003659 0.73978451\n",
      " 0.73002643 0.73490547 0.74872942 0.75991055 0.75462492 0.75401504\n",
      " 0.76174019 0.7737345  0.82008538 0.80585485 0.81154706 0.77434438\n",
      " 0.78633869 0.79284407 0.78328929 0.77109169 0.74385038 0.71193332\n",
      " 0.68733482 0.67818662 0.65257166 0.64301687 0.65643423 0.67656028\n",
      " 0.67371417 0.65114861 0.65521447 0.66761537 0.67838992 0.69993901\n",
      " 0.63122586 0.63508843 0.64098394 0.64545639 0.64118723 0.63854442\n",
      " 0.63081927 0.62472047 0.6330555  0.64728603 0.6574507  0.66761537\n",
      " 0.66720878 0.64159382 0.62776987 0.63651149 0.63630819 0.62980281\n",
      " 0.62817646 0.63813783 0.65358813 0.63183574 0.57653995 0.57816629\n",
      " 0.57613336 0.61943484 0.57979264 0.57288067 0.62573694 0.63102257\n",
      " 0.6361049  0.62776987 0.6269567  0.63590161 0.62594023 0.6391543\n",
      " 0.62614353 0.62268754 0.63701361 0.65359759 0.66991287 0.68561721\n",
      " 0.70115513 0.71706975 0.73366386 0.74847287]\n"
     ]
    },
    {
     "name": "stdout",
     "output_type": "stream",
     "text": [
      "8 day output [[0.7630645]]\n",
      "9 day input [0.67310429 0.68428542 0.68936776 0.70217524 0.71803212 0.72941655\n",
      " 0.73144948 0.74486684 0.76926205 0.75991055 0.74242732 0.73958122\n",
      " 0.74771295 0.75991055 0.7584875  0.76621264 0.75462492 0.76316324\n",
      " 0.79670665 0.80585485 0.7889815  0.78003659 0.73978451 0.73002643\n",
      " 0.73490547 0.74872942 0.75991055 0.75462492 0.75401504 0.76174019\n",
      " 0.7737345  0.82008538 0.80585485 0.81154706 0.77434438 0.78633869\n",
      " 0.79284407 0.78328929 0.77109169 0.74385038 0.71193332 0.68733482\n",
      " 0.67818662 0.65257166 0.64301687 0.65643423 0.67656028 0.67371417\n",
      " 0.65114861 0.65521447 0.66761537 0.67838992 0.69993901 0.63122586\n",
      " 0.63508843 0.64098394 0.64545639 0.64118723 0.63854442 0.63081927\n",
      " 0.62472047 0.6330555  0.64728603 0.6574507  0.66761537 0.66720878\n",
      " 0.64159382 0.62776987 0.63651149 0.63630819 0.62980281 0.62817646\n",
      " 0.63813783 0.65358813 0.63183574 0.57653995 0.57816629 0.57613336\n",
      " 0.61943484 0.57979264 0.57288067 0.62573694 0.63102257 0.6361049\n",
      " 0.62776987 0.6269567  0.63590161 0.62594023 0.6391543  0.62614353\n",
      " 0.62268754 0.63701361 0.65359759 0.66991287 0.68561721 0.70115513\n",
      " 0.71706975 0.73366386 0.74847287 0.7630645 ]\n",
      "9 day output [[0.77895784]]\n",
      "10 day input [0.68428542 0.68936776 0.70217524 0.71803212 0.72941655 0.73144948\n",
      " 0.74486684 0.76926205 0.75991055 0.74242732 0.73958122 0.74771295\n",
      " 0.75991055 0.7584875  0.76621264 0.75462492 0.76316324 0.79670665\n",
      " 0.80585485 0.7889815  0.78003659 0.73978451 0.73002643 0.73490547\n",
      " 0.74872942 0.75991055 0.75462492 0.75401504 0.76174019 0.7737345\n",
      " 0.82008538 0.80585485 0.81154706 0.77434438 0.78633869 0.79284407\n",
      " 0.78328929 0.77109169 0.74385038 0.71193332 0.68733482 0.67818662\n",
      " 0.65257166 0.64301687 0.65643423 0.67656028 0.67371417 0.65114861\n",
      " 0.65521447 0.66761537 0.67838992 0.69993901 0.63122586 0.63508843\n",
      " 0.64098394 0.64545639 0.64118723 0.63854442 0.63081927 0.62472047\n",
      " 0.6330555  0.64728603 0.6574507  0.66761537 0.66720878 0.64159382\n",
      " 0.62776987 0.63651149 0.63630819 0.62980281 0.62817646 0.63813783\n",
      " 0.65358813 0.63183574 0.57653995 0.57816629 0.57613336 0.61943484\n",
      " 0.57979264 0.57288067 0.62573694 0.63102257 0.6361049  0.62776987\n",
      " 0.6269567  0.63590161 0.62594023 0.6391543  0.62614353 0.62268754\n",
      " 0.63701361 0.65359759 0.66991287 0.68561721 0.70115513 0.71706975\n",
      " 0.73366386 0.74847287 0.7630645  0.77895784]\n",
      "10 day output [[0.7966298]]\n",
      "11 day input [0.68936776 0.70217524 0.71803212 0.72941655 0.73144948 0.74486684\n",
      " 0.76926205 0.75991055 0.74242732 0.73958122 0.74771295 0.75991055\n",
      " 0.7584875  0.76621264 0.75462492 0.76316324 0.79670665 0.80585485\n",
      " 0.7889815  0.78003659 0.73978451 0.73002643 0.73490547 0.74872942\n",
      " 0.75991055 0.75462492 0.75401504 0.76174019 0.7737345  0.82008538\n",
      " 0.80585485 0.81154706 0.77434438 0.78633869 0.79284407 0.78328929\n",
      " 0.77109169 0.74385038 0.71193332 0.68733482 0.67818662 0.65257166\n",
      " 0.64301687 0.65643423 0.67656028 0.67371417 0.65114861 0.65521447\n",
      " 0.66761537 0.67838992 0.69993901 0.63122586 0.63508843 0.64098394\n",
      " 0.64545639 0.64118723 0.63854442 0.63081927 0.62472047 0.6330555\n",
      " 0.64728603 0.6574507  0.66761537 0.66720878 0.64159382 0.62776987\n",
      " 0.63651149 0.63630819 0.62980281 0.62817646 0.63813783 0.65358813\n",
      " 0.63183574 0.57653995 0.57816629 0.57613336 0.61943484 0.57979264\n",
      " 0.57288067 0.62573694 0.63102257 0.6361049  0.62776987 0.6269567\n",
      " 0.63590161 0.62594023 0.6391543  0.62614353 0.62268754 0.63701361\n",
      " 0.65359759 0.66991287 0.68561721 0.70115513 0.71706975 0.73366386\n",
      " 0.74847287 0.7630645  0.77895784 0.79662979]\n",
      "11 day output [[0.8160979]]\n",
      "12 day input [0.70217524 0.71803212 0.72941655 0.73144948 0.74486684 0.76926205\n",
      " 0.75991055 0.74242732 0.73958122 0.74771295 0.75991055 0.7584875\n",
      " 0.76621264 0.75462492 0.76316324 0.79670665 0.80585485 0.7889815\n",
      " 0.78003659 0.73978451 0.73002643 0.73490547 0.74872942 0.75991055\n",
      " 0.75462492 0.75401504 0.76174019 0.7737345  0.82008538 0.80585485\n",
      " 0.81154706 0.77434438 0.78633869 0.79284407 0.78328929 0.77109169\n",
      " 0.74385038 0.71193332 0.68733482 0.67818662 0.65257166 0.64301687\n",
      " 0.65643423 0.67656028 0.67371417 0.65114861 0.65521447 0.66761537\n",
      " 0.67838992 0.69993901 0.63122586 0.63508843 0.64098394 0.64545639\n",
      " 0.64118723 0.63854442 0.63081927 0.62472047 0.6330555  0.64728603\n",
      " 0.6574507  0.66761537 0.66720878 0.64159382 0.62776987 0.63651149\n",
      " 0.63630819 0.62980281 0.62817646 0.63813783 0.65358813 0.63183574\n",
      " 0.57653995 0.57816629 0.57613336 0.61943484 0.57979264 0.57288067\n",
      " 0.62573694 0.63102257 0.6361049  0.62776987 0.6269567  0.63590161\n",
      " 0.62594023 0.6391543  0.62614353 0.62268754 0.63701361 0.65359759\n",
      " 0.66991287 0.68561721 0.70115513 0.71706975 0.73366386 0.74847287\n",
      " 0.7630645  0.77895784 0.79662979 0.81609792]\n",
      "12 day output [[0.8373518]]\n",
      "13 day input [0.71803212 0.72941655 0.73144948 0.74486684 0.76926205 0.75991055\n",
      " 0.74242732 0.73958122 0.74771295 0.75991055 0.7584875  0.76621264\n",
      " 0.75462492 0.76316324 0.79670665 0.80585485 0.7889815  0.78003659\n",
      " 0.73978451 0.73002643 0.73490547 0.74872942 0.75991055 0.75462492\n",
      " 0.75401504 0.76174019 0.7737345  0.82008538 0.80585485 0.81154706\n",
      " 0.77434438 0.78633869 0.79284407 0.78328929 0.77109169 0.74385038\n",
      " 0.71193332 0.68733482 0.67818662 0.65257166 0.64301687 0.65643423\n",
      " 0.67656028 0.67371417 0.65114861 0.65521447 0.66761537 0.67838992\n",
      " 0.69993901 0.63122586 0.63508843 0.64098394 0.64545639 0.64118723\n",
      " 0.63854442 0.63081927 0.62472047 0.6330555  0.64728603 0.6574507\n",
      " 0.66761537 0.66720878 0.64159382 0.62776987 0.63651149 0.63630819\n",
      " 0.62980281 0.62817646 0.63813783 0.65358813 0.63183574 0.57653995\n",
      " 0.57816629 0.57613336 0.61943484 0.57979264 0.57288067 0.62573694\n",
      " 0.63102257 0.6361049  0.62776987 0.6269567  0.63590161 0.62594023\n",
      " 0.6391543  0.62614353 0.62268754 0.63701361 0.65359759 0.66991287\n",
      " 0.68561721 0.70115513 0.71706975 0.73366386 0.74847287 0.7630645\n",
      " 0.77895784 0.79662979 0.81609792 0.8373518 ]\n",
      "13 day output [[0.8608073]]\n",
      "14 day input [0.72941655 0.73144948 0.74486684 0.76926205 0.75991055 0.74242732\n",
      " 0.73958122 0.74771295 0.75991055 0.7584875  0.76621264 0.75462492\n",
      " 0.76316324 0.79670665 0.80585485 0.7889815  0.78003659 0.73978451\n",
      " 0.73002643 0.73490547 0.74872942 0.75991055 0.75462492 0.75401504\n",
      " 0.76174019 0.7737345  0.82008538 0.80585485 0.81154706 0.77434438\n",
      " 0.78633869 0.79284407 0.78328929 0.77109169 0.74385038 0.71193332\n",
      " 0.68733482 0.67818662 0.65257166 0.64301687 0.65643423 0.67656028\n",
      " 0.67371417 0.65114861 0.65521447 0.66761537 0.67838992 0.69993901\n",
      " 0.63122586 0.63508843 0.64098394 0.64545639 0.64118723 0.63854442\n",
      " 0.63081927 0.62472047 0.6330555  0.64728603 0.6574507  0.66761537\n",
      " 0.66720878 0.64159382 0.62776987 0.63651149 0.63630819 0.62980281\n",
      " 0.62817646 0.63813783 0.65358813 0.63183574 0.57653995 0.57816629\n",
      " 0.57613336 0.61943484 0.57979264 0.57288067 0.62573694 0.63102257\n",
      " 0.6361049  0.62776987 0.6269567  0.63590161 0.62594023 0.6391543\n",
      " 0.62614353 0.62268754 0.63701361 0.65359759 0.66991287 0.68561721\n",
      " 0.70115513 0.71706975 0.73366386 0.74847287 0.7630645  0.77895784\n",
      " 0.79662979 0.81609792 0.8373518  0.8608073 ]\n",
      "14 day output [[0.8866556]]\n",
      "15 day input [0.73144948 0.74486684 0.76926205 0.75991055 0.74242732 0.73958122\n",
      " 0.74771295 0.75991055 0.7584875  0.76621264 0.75462492 0.76316324\n",
      " 0.79670665 0.80585485 0.7889815  0.78003659 0.73978451 0.73002643\n",
      " 0.73490547 0.74872942 0.75991055 0.75462492 0.75401504 0.76174019\n",
      " 0.7737345  0.82008538 0.80585485 0.81154706 0.77434438 0.78633869\n",
      " 0.79284407 0.78328929 0.77109169 0.74385038 0.71193332 0.68733482\n",
      " 0.67818662 0.65257166 0.64301687 0.65643423 0.67656028 0.67371417\n",
      " 0.65114861 0.65521447 0.66761537 0.67838992 0.69993901 0.63122586\n",
      " 0.63508843 0.64098394 0.64545639 0.64118723 0.63854442 0.63081927\n",
      " 0.62472047 0.6330555  0.64728603 0.6574507  0.66761537 0.66720878\n",
      " 0.64159382 0.62776987 0.63651149 0.63630819 0.62980281 0.62817646\n",
      " 0.63813783 0.65358813 0.63183574 0.57653995 0.57816629 0.57613336\n",
      " 0.61943484 0.57979264 0.57288067 0.62573694 0.63102257 0.6361049\n",
      " 0.62776987 0.6269567  0.63590161 0.62594023 0.6391543  0.62614353\n",
      " 0.62268754 0.63701361 0.65359759 0.66991287 0.68561721 0.70115513\n",
      " 0.71706975 0.73366386 0.74847287 0.7630645  0.77895784 0.79662979\n",
      " 0.81609792 0.8373518  0.8608073  0.88665563]\n",
      "15 day output [[0.9149438]]\n",
      "16 day input [0.74486684 0.76926205 0.75991055 0.74242732 0.73958122 0.74771295\n",
      " 0.75991055 0.7584875  0.76621264 0.75462492 0.76316324 0.79670665\n",
      " 0.80585485 0.7889815  0.78003659 0.73978451 0.73002643 0.73490547\n",
      " 0.74872942 0.75991055 0.75462492 0.75401504 0.76174019 0.7737345\n",
      " 0.82008538 0.80585485 0.81154706 0.77434438 0.78633869 0.79284407\n",
      " 0.78328929 0.77109169 0.74385038 0.71193332 0.68733482 0.67818662\n",
      " 0.65257166 0.64301687 0.65643423 0.67656028 0.67371417 0.65114861\n",
      " 0.65521447 0.66761537 0.67838992 0.69993901 0.63122586 0.63508843\n",
      " 0.64098394 0.64545639 0.64118723 0.63854442 0.63081927 0.62472047\n",
      " 0.6330555  0.64728603 0.6574507  0.66761537 0.66720878 0.64159382\n",
      " 0.62776987 0.63651149 0.63630819 0.62980281 0.62817646 0.63813783\n",
      " 0.65358813 0.63183574 0.57653995 0.57816629 0.57613336 0.61943484\n",
      " 0.57979264 0.57288067 0.62573694 0.63102257 0.6361049  0.62776987\n",
      " 0.6269567  0.63590161 0.62594023 0.6391543  0.62614353 0.62268754\n",
      " 0.63701361 0.65359759 0.66991287 0.68561721 0.70115513 0.71706975\n",
      " 0.73366386 0.74847287 0.7630645  0.77895784 0.79662979 0.81609792\n",
      " 0.8373518  0.8608073  0.88665563 0.91494381]\n"
     ]
    },
    {
     "name": "stdout",
     "output_type": "stream",
     "text": [
      "16 day output [[0.9458761]]\n",
      "17 day input [0.76926205 0.75991055 0.74242732 0.73958122 0.74771295 0.75991055\n",
      " 0.7584875  0.76621264 0.75462492 0.76316324 0.79670665 0.80585485\n",
      " 0.7889815  0.78003659 0.73978451 0.73002643 0.73490547 0.74872942\n",
      " 0.75991055 0.75462492 0.75401504 0.76174019 0.7737345  0.82008538\n",
      " 0.80585485 0.81154706 0.77434438 0.78633869 0.79284407 0.78328929\n",
      " 0.77109169 0.74385038 0.71193332 0.68733482 0.67818662 0.65257166\n",
      " 0.64301687 0.65643423 0.67656028 0.67371417 0.65114861 0.65521447\n",
      " 0.66761537 0.67838992 0.69993901 0.63122586 0.63508843 0.64098394\n",
      " 0.64545639 0.64118723 0.63854442 0.63081927 0.62472047 0.6330555\n",
      " 0.64728603 0.6574507  0.66761537 0.66720878 0.64159382 0.62776987\n",
      " 0.63651149 0.63630819 0.62980281 0.62817646 0.63813783 0.65358813\n",
      " 0.63183574 0.57653995 0.57816629 0.57613336 0.61943484 0.57979264\n",
      " 0.57288067 0.62573694 0.63102257 0.6361049  0.62776987 0.6269567\n",
      " 0.63590161 0.62594023 0.6391543  0.62614353 0.62268754 0.63701361\n",
      " 0.65359759 0.66991287 0.68561721 0.70115513 0.71706975 0.73366386\n",
      " 0.74847287 0.7630645  0.77895784 0.79662979 0.81609792 0.8373518\n",
      " 0.8608073  0.88665563 0.91494381 0.94587612]\n",
      "17 day output [[0.9797605]]\n",
      "18 day input [0.75991055 0.74242732 0.73958122 0.74771295 0.75991055 0.7584875\n",
      " 0.76621264 0.75462492 0.76316324 0.79670665 0.80585485 0.7889815\n",
      " 0.78003659 0.73978451 0.73002643 0.73490547 0.74872942 0.75991055\n",
      " 0.75462492 0.75401504 0.76174019 0.7737345  0.82008538 0.80585485\n",
      " 0.81154706 0.77434438 0.78633869 0.79284407 0.78328929 0.77109169\n",
      " 0.74385038 0.71193332 0.68733482 0.67818662 0.65257166 0.64301687\n",
      " 0.65643423 0.67656028 0.67371417 0.65114861 0.65521447 0.66761537\n",
      " 0.67838992 0.69993901 0.63122586 0.63508843 0.64098394 0.64545639\n",
      " 0.64118723 0.63854442 0.63081927 0.62472047 0.6330555  0.64728603\n",
      " 0.6574507  0.66761537 0.66720878 0.64159382 0.62776987 0.63651149\n",
      " 0.63630819 0.62980281 0.62817646 0.63813783 0.65358813 0.63183574\n",
      " 0.57653995 0.57816629 0.57613336 0.61943484 0.57979264 0.57288067\n",
      " 0.62573694 0.63102257 0.6361049  0.62776987 0.6269567  0.63590161\n",
      " 0.62594023 0.6391543  0.62614353 0.62268754 0.63701361 0.65359759\n",
      " 0.66991287 0.68561721 0.70115513 0.71706975 0.73366386 0.74847287\n",
      " 0.7630645  0.77895784 0.79662979 0.81609792 0.8373518  0.8608073\n",
      " 0.88665563 0.91494381 0.94587612 0.97976053]\n",
      "18 day output [[1.016926]]\n",
      "19 day input [0.74242732 0.73958122 0.74771295 0.75991055 0.7584875  0.76621264\n",
      " 0.75462492 0.76316324 0.79670665 0.80585485 0.7889815  0.78003659\n",
      " 0.73978451 0.73002643 0.73490547 0.74872942 0.75991055 0.75462492\n",
      " 0.75401504 0.76174019 0.7737345  0.82008538 0.80585485 0.81154706\n",
      " 0.77434438 0.78633869 0.79284407 0.78328929 0.77109169 0.74385038\n",
      " 0.71193332 0.68733482 0.67818662 0.65257166 0.64301687 0.65643423\n",
      " 0.67656028 0.67371417 0.65114861 0.65521447 0.66761537 0.67838992\n",
      " 0.69993901 0.63122586 0.63508843 0.64098394 0.64545639 0.64118723\n",
      " 0.63854442 0.63081927 0.62472047 0.6330555  0.64728603 0.6574507\n",
      " 0.66761537 0.66720878 0.64159382 0.62776987 0.63651149 0.63630819\n",
      " 0.62980281 0.62817646 0.63813783 0.65358813 0.63183574 0.57653995\n",
      " 0.57816629 0.57613336 0.61943484 0.57979264 0.57288067 0.62573694\n",
      " 0.63102257 0.6361049  0.62776987 0.6269567  0.63590161 0.62594023\n",
      " 0.6391543  0.62614353 0.62268754 0.63701361 0.65359759 0.66991287\n",
      " 0.68561721 0.70115513 0.71706975 0.73366386 0.74847287 0.7630645\n",
      " 0.77895784 0.79662979 0.81609792 0.8373518  0.8608073  0.88665563\n",
      " 0.91494381 0.94587612 0.97976053 1.01692605]\n",
      "19 day output [[1.0576866]]\n",
      "20 day input [0.73958122 0.74771295 0.75991055 0.7584875  0.76621264 0.75462492\n",
      " 0.76316324 0.79670665 0.80585485 0.7889815  0.78003659 0.73978451\n",
      " 0.73002643 0.73490547 0.74872942 0.75991055 0.75462492 0.75401504\n",
      " 0.76174019 0.7737345  0.82008538 0.80585485 0.81154706 0.77434438\n",
      " 0.78633869 0.79284407 0.78328929 0.77109169 0.74385038 0.71193332\n",
      " 0.68733482 0.67818662 0.65257166 0.64301687 0.65643423 0.67656028\n",
      " 0.67371417 0.65114861 0.65521447 0.66761537 0.67838992 0.69993901\n",
      " 0.63122586 0.63508843 0.64098394 0.64545639 0.64118723 0.63854442\n",
      " 0.63081927 0.62472047 0.6330555  0.64728603 0.6574507  0.66761537\n",
      " 0.66720878 0.64159382 0.62776987 0.63651149 0.63630819 0.62980281\n",
      " 0.62817646 0.63813783 0.65358813 0.63183574 0.57653995 0.57816629\n",
      " 0.57613336 0.61943484 0.57979264 0.57288067 0.62573694 0.63102257\n",
      " 0.6361049  0.62776987 0.6269567  0.63590161 0.62594023 0.6391543\n",
      " 0.62614353 0.62268754 0.63701361 0.65359759 0.66991287 0.68561721\n",
      " 0.70115513 0.71706975 0.73366386 0.74847287 0.7630645  0.77895784\n",
      " 0.79662979 0.81609792 0.8373518  0.8608073  0.88665563 0.91494381\n",
      " 0.94587612 0.97976053 1.01692605 1.05768657]\n",
      "20 day output [[1.097588]]\n",
      "21 day input [0.74771295 0.75991055 0.7584875  0.76621264 0.75462492 0.76316324\n",
      " 0.79670665 0.80585485 0.7889815  0.78003659 0.73978451 0.73002643\n",
      " 0.73490547 0.74872942 0.75991055 0.75462492 0.75401504 0.76174019\n",
      " 0.7737345  0.82008538 0.80585485 0.81154706 0.77434438 0.78633869\n",
      " 0.79284407 0.78328929 0.77109169 0.74385038 0.71193332 0.68733482\n",
      " 0.67818662 0.65257166 0.64301687 0.65643423 0.67656028 0.67371417\n",
      " 0.65114861 0.65521447 0.66761537 0.67838992 0.69993901 0.63122586\n",
      " 0.63508843 0.64098394 0.64545639 0.64118723 0.63854442 0.63081927\n",
      " 0.62472047 0.6330555  0.64728603 0.6574507  0.66761537 0.66720878\n",
      " 0.64159382 0.62776987 0.63651149 0.63630819 0.62980281 0.62817646\n",
      " 0.63813783 0.65358813 0.63183574 0.57653995 0.57816629 0.57613336\n",
      " 0.61943484 0.57979264 0.57288067 0.62573694 0.63102257 0.6361049\n",
      " 0.62776987 0.6269567  0.63590161 0.62594023 0.6391543  0.62614353\n",
      " 0.62268754 0.63701361 0.65359759 0.66991287 0.68561721 0.70115513\n",
      " 0.71706975 0.73366386 0.74847287 0.7630645  0.77895784 0.79662979\n",
      " 0.81609792 0.8373518  0.8608073  0.88665563 0.91494381 0.94587612\n",
      " 0.97976053 1.01692605 1.05768657 1.09758794]\n",
      "21 day output [[1.1361043]]\n",
      "22 day input [0.75991055 0.7584875  0.76621264 0.75462492 0.76316324 0.79670665\n",
      " 0.80585485 0.7889815  0.78003659 0.73978451 0.73002643 0.73490547\n",
      " 0.74872942 0.75991055 0.75462492 0.75401504 0.76174019 0.7737345\n",
      " 0.82008538 0.80585485 0.81154706 0.77434438 0.78633869 0.79284407\n",
      " 0.78328929 0.77109169 0.74385038 0.71193332 0.68733482 0.67818662\n",
      " 0.65257166 0.64301687 0.65643423 0.67656028 0.67371417 0.65114861\n",
      " 0.65521447 0.66761537 0.67838992 0.69993901 0.63122586 0.63508843\n",
      " 0.64098394 0.64545639 0.64118723 0.63854442 0.63081927 0.62472047\n",
      " 0.6330555  0.64728603 0.6574507  0.66761537 0.66720878 0.64159382\n",
      " 0.62776987 0.63651149 0.63630819 0.62980281 0.62817646 0.63813783\n",
      " 0.65358813 0.63183574 0.57653995 0.57816629 0.57613336 0.61943484\n",
      " 0.57979264 0.57288067 0.62573694 0.63102257 0.6361049  0.62776987\n",
      " 0.6269567  0.63590161 0.62594023 0.6391543  0.62614353 0.62268754\n",
      " 0.63701361 0.65359759 0.66991287 0.68561721 0.70115513 0.71706975\n",
      " 0.73366386 0.74847287 0.7630645  0.77895784 0.79662979 0.81609792\n",
      " 0.8373518  0.8608073  0.88665563 0.91494381 0.94587612 0.97976053\n",
      " 1.01692605 1.05768657 1.09758794 1.13610435]\n",
      "22 day output [[1.1744955]]\n",
      "23 day input [0.7584875  0.76621264 0.75462492 0.76316324 0.79670665 0.80585485\n",
      " 0.7889815  0.78003659 0.73978451 0.73002643 0.73490547 0.74872942\n",
      " 0.75991055 0.75462492 0.75401504 0.76174019 0.7737345  0.82008538\n",
      " 0.80585485 0.81154706 0.77434438 0.78633869 0.79284407 0.78328929\n",
      " 0.77109169 0.74385038 0.71193332 0.68733482 0.67818662 0.65257166\n",
      " 0.64301687 0.65643423 0.67656028 0.67371417 0.65114861 0.65521447\n",
      " 0.66761537 0.67838992 0.69993901 0.63122586 0.63508843 0.64098394\n",
      " 0.64545639 0.64118723 0.63854442 0.63081927 0.62472047 0.6330555\n",
      " 0.64728603 0.6574507  0.66761537 0.66720878 0.64159382 0.62776987\n",
      " 0.63651149 0.63630819 0.62980281 0.62817646 0.63813783 0.65358813\n",
      " 0.63183574 0.57653995 0.57816629 0.57613336 0.61943484 0.57979264\n",
      " 0.57288067 0.62573694 0.63102257 0.6361049  0.62776987 0.6269567\n",
      " 0.63590161 0.62594023 0.6391543  0.62614353 0.62268754 0.63701361\n",
      " 0.65359759 0.66991287 0.68561721 0.70115513 0.71706975 0.73366386\n",
      " 0.74847287 0.7630645  0.77895784 0.79662979 0.81609792 0.8373518\n",
      " 0.8608073  0.88665563 0.91494381 0.94587612 0.97976053 1.01692605\n",
      " 1.05768657 1.09758794 1.13610435 1.17449546]\n",
      "23 day output [[1.211987]]\n",
      "24 day input [0.76621264 0.75462492 0.76316324 0.79670665 0.80585485 0.7889815\n",
      " 0.78003659 0.73978451 0.73002643 0.73490547 0.74872942 0.75991055\n",
      " 0.75462492 0.75401504 0.76174019 0.7737345  0.82008538 0.80585485\n",
      " 0.81154706 0.77434438 0.78633869 0.79284407 0.78328929 0.77109169\n",
      " 0.74385038 0.71193332 0.68733482 0.67818662 0.65257166 0.64301687\n",
      " 0.65643423 0.67656028 0.67371417 0.65114861 0.65521447 0.66761537\n",
      " 0.67838992 0.69993901 0.63122586 0.63508843 0.64098394 0.64545639\n",
      " 0.64118723 0.63854442 0.63081927 0.62472047 0.6330555  0.64728603\n",
      " 0.6574507  0.66761537 0.66720878 0.64159382 0.62776987 0.63651149\n",
      " 0.63630819 0.62980281 0.62817646 0.63813783 0.65358813 0.63183574\n",
      " 0.57653995 0.57816629 0.57613336 0.61943484 0.57979264 0.57288067\n",
      " 0.62573694 0.63102257 0.6361049  0.62776987 0.6269567  0.63590161\n",
      " 0.62594023 0.6391543  0.62614353 0.62268754 0.63701361 0.65359759\n",
      " 0.66991287 0.68561721 0.70115513 0.71706975 0.73366386 0.74847287\n",
      " 0.7630645  0.77895784 0.79662979 0.81609792 0.8373518  0.8608073\n",
      " 0.88665563 0.91494381 0.94587612 0.97976053 1.01692605 1.05768657\n",
      " 1.09758794 1.13610435 1.17449546 1.21198702]\n"
     ]
    },
    {
     "name": "stdout",
     "output_type": "stream",
     "text": [
      "24 day output [[1.2495425]]\n",
      "25 day input [0.75462492 0.76316324 0.79670665 0.80585485 0.7889815  0.78003659\n",
      " 0.73978451 0.73002643 0.73490547 0.74872942 0.75991055 0.75462492\n",
      " 0.75401504 0.76174019 0.7737345  0.82008538 0.80585485 0.81154706\n",
      " 0.77434438 0.78633869 0.79284407 0.78328929 0.77109169 0.74385038\n",
      " 0.71193332 0.68733482 0.67818662 0.65257166 0.64301687 0.65643423\n",
      " 0.67656028 0.67371417 0.65114861 0.65521447 0.66761537 0.67838992\n",
      " 0.69993901 0.63122586 0.63508843 0.64098394 0.64545639 0.64118723\n",
      " 0.63854442 0.63081927 0.62472047 0.6330555  0.64728603 0.6574507\n",
      " 0.66761537 0.66720878 0.64159382 0.62776987 0.63651149 0.63630819\n",
      " 0.62980281 0.62817646 0.63813783 0.65358813 0.63183574 0.57653995\n",
      " 0.57816629 0.57613336 0.61943484 0.57979264 0.57288067 0.62573694\n",
      " 0.63102257 0.6361049  0.62776987 0.6269567  0.63590161 0.62594023\n",
      " 0.6391543  0.62614353 0.62268754 0.63701361 0.65359759 0.66991287\n",
      " 0.68561721 0.70115513 0.71706975 0.73366386 0.74847287 0.7630645\n",
      " 0.77895784 0.79662979 0.81609792 0.8373518  0.8608073  0.88665563\n",
      " 0.91494381 0.94587612 0.97976053 1.01692605 1.05768657 1.09758794\n",
      " 1.13610435 1.17449546 1.21198702 1.24954247]\n",
      "25 day output [[1.2896498]]\n",
      "26 day input [0.76316324 0.79670665 0.80585485 0.7889815  0.78003659 0.73978451\n",
      " 0.73002643 0.73490547 0.74872942 0.75991055 0.75462492 0.75401504\n",
      " 0.76174019 0.7737345  0.82008538 0.80585485 0.81154706 0.77434438\n",
      " 0.78633869 0.79284407 0.78328929 0.77109169 0.74385038 0.71193332\n",
      " 0.68733482 0.67818662 0.65257166 0.64301687 0.65643423 0.67656028\n",
      " 0.67371417 0.65114861 0.65521447 0.66761537 0.67838992 0.69993901\n",
      " 0.63122586 0.63508843 0.64098394 0.64545639 0.64118723 0.63854442\n",
      " 0.63081927 0.62472047 0.6330555  0.64728603 0.6574507  0.66761537\n",
      " 0.66720878 0.64159382 0.62776987 0.63651149 0.63630819 0.62980281\n",
      " 0.62817646 0.63813783 0.65358813 0.63183574 0.57653995 0.57816629\n",
      " 0.57613336 0.61943484 0.57979264 0.57288067 0.62573694 0.63102257\n",
      " 0.6361049  0.62776987 0.6269567  0.63590161 0.62594023 0.6391543\n",
      " 0.62614353 0.62268754 0.63701361 0.65359759 0.66991287 0.68561721\n",
      " 0.70115513 0.71706975 0.73366386 0.74847287 0.7630645  0.77895784\n",
      " 0.79662979 0.81609792 0.8373518  0.8608073  0.88665563 0.91494381\n",
      " 0.94587612 0.97976053 1.01692605 1.05768657 1.09758794 1.13610435\n",
      " 1.17449546 1.21198702 1.24954247 1.28964984]\n",
      "26 day output [[1.3324178]]\n",
      "27 day input [0.79670665 0.80585485 0.7889815  0.78003659 0.73978451 0.73002643\n",
      " 0.73490547 0.74872942 0.75991055 0.75462492 0.75401504 0.76174019\n",
      " 0.7737345  0.82008538 0.80585485 0.81154706 0.77434438 0.78633869\n",
      " 0.79284407 0.78328929 0.77109169 0.74385038 0.71193332 0.68733482\n",
      " 0.67818662 0.65257166 0.64301687 0.65643423 0.67656028 0.67371417\n",
      " 0.65114861 0.65521447 0.66761537 0.67838992 0.69993901 0.63122586\n",
      " 0.63508843 0.64098394 0.64545639 0.64118723 0.63854442 0.63081927\n",
      " 0.62472047 0.6330555  0.64728603 0.6574507  0.66761537 0.66720878\n",
      " 0.64159382 0.62776987 0.63651149 0.63630819 0.62980281 0.62817646\n",
      " 0.63813783 0.65358813 0.63183574 0.57653995 0.57816629 0.57613336\n",
      " 0.61943484 0.57979264 0.57288067 0.62573694 0.63102257 0.6361049\n",
      " 0.62776987 0.6269567  0.63590161 0.62594023 0.6391543  0.62614353\n",
      " 0.62268754 0.63701361 0.65359759 0.66991287 0.68561721 0.70115513\n",
      " 0.71706975 0.73366386 0.74847287 0.7630645  0.77895784 0.79662979\n",
      " 0.81609792 0.8373518  0.8608073  0.88665563 0.91494381 0.94587612\n",
      " 0.97976053 1.01692605 1.05768657 1.09758794 1.13610435 1.17449546\n",
      " 1.21198702 1.24954247 1.28964984 1.33241785]\n",
      "27 day output [[1.376804]]\n",
      "[[0.6370136141777039], [0.6535975933074951], [0.6699128746986389], [0.685617208480835], [0.7011551260948181], [0.7170697450637817], [0.7336638569831848], [0.7484728693962097], [0.7630645036697388], [0.7789578437805176], [0.796629786491394], [0.8160979151725769], [0.8373517990112305], [0.8608072996139526], [0.8866556286811829], [0.9149438142776489], [0.9458761215209961], [0.9797605276107788], [1.0169260501861572], [1.0576865673065186], [1.0975879430770874], [1.1361043453216553], [1.1744954586029053], [1.211987018585205], [1.249542474746704], [1.2896498441696167], [1.3324178457260132], [1.376803994178772]]\n"
     ]
    }
   ],
   "source": [
    "tmpinput = list(xinput)\n",
    "temp_input = tmpinput[0].tolist()\n",
    "lstoutput=[]\n",
    "nossteps=100\n",
    "nextNumberOfDays = 28\n",
    "i=0\n",
    "while(i<nextNumberOfDays):\n",
    "    if(len(temp_input)>100):\n",
    "        xinput=np.array(temp_input[1:])\n",
    "        print(\"{} day input {}\".format(i,xinput))\n",
    "        xinput=xinput.reshape(1,-1)\n",
    "        xinput = xinput.reshape((1, nossteps, 1))\n",
    "        yhat = mdl.predict(xinput, verbose=0)\n",
    "        print(\"{} day output {}\".format(i,yhat))\n",
    "        temp_input.extend(yhat[0].tolist())\n",
    "        temp_input=temp_input[1:]\n",
    "        lstoutput.extend(yhat.tolist())\n",
    "        i=i+1\n",
    "    else:\n",
    "        xinput = xinput.reshape((1, nossteps,1))\n",
    "        yhat = mdl.predict(xinput, verbose=0)\n",
    "        print(yhat[0])\n",
    "        temp_input.extend(yhat[0].tolist())\n",
    "        print(len(temp_input))\n",
    "        lstoutput.extend(yhat.tolist())\n",
    "        i=i+1\n",
    "print(lstoutput)"
   ]
  },
  {
   "cell_type": "code",
   "execution_count": 52,
   "id": "6500a185",
   "metadata": {},
   "outputs": [
    {
     "data": {
      "text/plain": [
       "(100,)"
      ]
     },
     "execution_count": 52,
     "metadata": {},
     "output_type": "execute_result"
    }
   ],
   "source": [
    "dnew = np.arange(1,101)\n",
    "dpred = np.arange(101,129)\n",
    "dnew.shape"
   ]
  },
  {
   "cell_type": "code",
   "execution_count": 53,
   "id": "866d8fd7",
   "metadata": {},
   "outputs": [
    {
     "data": {
      "text/plain": [
       "(28,)"
      ]
     },
     "execution_count": 53,
     "metadata": {},
     "output_type": "execute_result"
    }
   ],
   "source": [
    "dpred.shape"
   ]
  },
  {
   "cell_type": "code",
   "execution_count": 54,
   "id": "b3f7e7db",
   "metadata": {},
   "outputs": [
    {
     "data": {
      "text/plain": [
       "2035"
      ]
     },
     "execution_count": 54,
     "metadata": {},
     "output_type": "execute_result"
    }
   ],
   "source": [
    "defn3 = defn_high.tolist()\n",
    "defn3.extend(lstoutput)\n",
    "\n",
    "len(defn_high)"
   ]
  },
  {
   "cell_type": "code",
   "execution_count": 55,
   "id": "9f31d7e4",
   "metadata": {},
   "outputs": [
    {
     "data": {
      "text/plain": [
       "[<matplotlib.lines.Line2D at 0x1bb8f83fd00>]"
      ]
     },
     "execution_count": 55,
     "metadata": {},
     "output_type": "execute_result"
    },
    {
     "data": {
      "image/png": "[encoded data removed]",
      "text/plain": [
       "<Figure size 432x288 with 1 Axes>"
      ]
     },
     "metadata": {
      "needs_background": "light"
     },
     "output_type": "display_data"
    }
   ],
   "source": [
    "plt.plot(dnew, sclr.inverse_transform(defn_high[1935:]))\n",
    "plt.plot(dpred, sclr.inverse_transform(lstoutput))"
   ]
  },
  {
   "cell_type": "code",
   "execution_count": 56,
   "id": "f534793c",
   "metadata": {},
   "outputs": [
    {
     "data": {
      "text/plain": [
       "[<matplotlib.lines.Line2D at 0x1bba732c220>]"
      ]
     },
     "execution_count": 56,
     "metadata": {},
     "output_type": "execute_result"
    },
    {
     "data": {
      "image/png": "[encoded data removed]",
      "text/plain": [
       "<Figure size 432x288 with 1 Axes>"
      ]
     },
     "metadata": {
      "needs_background": "light"
     },
     "output_type": "display_data"
    }
   ],
   "source": [
    "defn3=defn_high.tolist()\n",
    "defn3.extend(lstoutput)\n",
    "plt.plot(defn3[2000:])"
   ]
  },
  {
   "cell_type": "code",
   "execution_count": 57,
   "id": "6c4685ac",
   "metadata": {},
   "outputs": [],
   "source": [
    "defn3=sclr.inverse_transform(defn3).tolist()"
   ]
  },
  {
   "cell_type": "code",
   "execution_count": 58,
   "id": "e37b51ff",
   "metadata": {},
   "outputs": [
    {
     "data": {
      "text/plain": [
       "[<matplotlib.lines.Line2D at 0x1bba73a86a0>]"
      ]
     },
     "execution_count": 58,
     "metadata": {},
     "output_type": "execute_result"
    },
    {
     "data": {
      "image/png": "[encoded data removed]",
      "text/plain": [
       "<Figure size 432x288 with 1 Axes>"
      ]
     },
     "metadata": {
      "needs_background": "light"
     },
     "output_type": "display_data"
    }
   ],
   "source": [
    "plt.plot(defn3)"
   ]
  },
  {
   "cell_type": "code",
   "execution_count": null,
   "id": "86e3fc01",
   "metadata": {},
   "outputs": [],
   "source": []
  },
  {
   "cell_type": "code",
   "execution_count": null,
   "id": "311cabe5",
   "metadata": {},
   "outputs": [],
   "source": []
  },
  {
   "cell_type": "code",
   "execution_count": null,
   "id": "f54b0f38",
   "metadata": {},
   "outputs": [],
   "source": []
  },
  {
   "cell_type": "code",
   "execution_count": null,
   "id": "d46b6e1f",
   "metadata": {},
   "outputs": [],
   "source": []
  },
  {
   "cell_type": "code",
   "execution_count": null,
   "id": "6463b930",
   "metadata": {},
   "outputs": [],
   "source": []
  },
  {
   "cell_type": "code",
   "execution_count": null,
   "id": "ee026848",
   "metadata": {},
   "outputs": [],
   "source": []
  },
  {
   "cell_type": "code",
   "execution_count": null,
   "id": "1760f74a",
   "metadata": {},
   "outputs": [],
   "source": []
  }
 ],
 "metadata": {
  "kernelspec": {
   "display_name": "Python 3 (ipykernel)",
   "language": "python",
   "name": "python3"
  },
  "language_info": {
   "codemirror_mode": {
    "name": "ipython",
    "version": 3
   },
   "file_extension": ".py",
   "mimetype": "text/x-python",
   "name": "python",
   "nbconvert_exporter": "python",
   "pygments_lexer": "ipython3",
   "version": "3.10.4"
  }
 },
 "nbformat": 4,
 "nbformat_minor": 5
}
